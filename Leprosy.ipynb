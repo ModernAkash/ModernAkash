{
  "nbformat": 4,
  "nbformat_minor": 0,
  "metadata": {
    "colab": {
      "name": "Leprosy.ipynb",
      "provenance": [],
      "collapsed_sections": [],
      "authorship_tag": "ABX9TyOUFwFBb29kHpxP1gr2SSJH",
      "include_colab_link": true
    },
    "kernelspec": {
      "name": "python3",
      "display_name": "Python 3"
    },
    "language_info": {
      "name": "python"
    }
  },
  "cells": [
    {
      "cell_type": "markdown",
      "metadata": {
        "id": "view-in-github",
        "colab_type": "text"
      },
      "source": [
        "<a href=\"https://colab.research.google.com/github/ModernAkash/ModernAkash/blob/main/Leprosy.ipynb\" target=\"_parent\"><img src=\"https://colab.research.google.com/assets/colab-badge.svg\" alt=\"Open In Colab\"/></a>"
      ]
    },
    {
      "cell_type": "code",
      "metadata": {
        "id": "SK-5WfjcIe_u"
      },
      "source": [
        "import pandas as pd"
      ],
      "execution_count": 33,
      "outputs": []
    },
    {
      "cell_type": "code",
      "metadata": {
        "id": "1FxIiKuQLN36"
      },
      "source": [
        "df=pd.read_csv('lepdata.csv')"
      ],
      "execution_count": 34,
      "outputs": []
    },
    {
      "cell_type": "code",
      "metadata": {
        "colab": {
          "base_uri": "https://localhost:8080/",
          "height": 645
        },
        "id": "zQwFJWFVL3fV",
        "outputId": "7d036911-d404-423b-9619-eae6e81e45f4"
      },
      "source": [
        "df"
      ],
      "execution_count": 35,
      "outputs": [
        {
          "output_type": "execute_result",
          "data": {
            "text/html": [
              "<div>\n",
              "<style scoped>\n",
              "    .dataframe tbody tr th:only-of-type {\n",
              "        vertical-align: middle;\n",
              "    }\n",
              "\n",
              "    .dataframe tbody tr th {\n",
              "        vertical-align: top;\n",
              "    }\n",
              "\n",
              "    .dataframe thead th {\n",
              "        text-align: right;\n",
              "    }\n",
              "</style>\n",
              "<table border=\"1\" class=\"dataframe\">\n",
              "  <thead>\n",
              "    <tr style=\"text-align: right;\">\n",
              "      <th></th>\n",
              "      <th>Sr. No.</th>\n",
              "      <th>Year</th>\n",
              "      <th>Total Leprosy cases detected</th>\n",
              "      <th>Cases on treatment at March end</th>\n",
              "      <th>MB Cases</th>\n",
              "      <th>Male Cases</th>\n",
              "      <th>Female Cases</th>\n",
              "      <th>Child Cases</th>\n",
              "      <th>Grade II disability Cases</th>\n",
              "      <th>Release from treatment</th>\n",
              "    </tr>\n",
              "  </thead>\n",
              "  <tbody>\n",
              "    <tr>\n",
              "      <th>0</th>\n",
              "      <td>1</td>\n",
              "      <td>2008-09</td>\n",
              "      <td>118</td>\n",
              "      <td>122</td>\n",
              "      <td>97</td>\n",
              "      <td>75</td>\n",
              "      <td>33</td>\n",
              "      <td>10</td>\n",
              "      <td>5</td>\n",
              "      <td>106</td>\n",
              "    </tr>\n",
              "    <tr>\n",
              "      <th>1</th>\n",
              "      <td>2</td>\n",
              "      <td>2009-10</td>\n",
              "      <td>134</td>\n",
              "      <td>97</td>\n",
              "      <td>94</td>\n",
              "      <td>75</td>\n",
              "      <td>52</td>\n",
              "      <td>7</td>\n",
              "      <td>0</td>\n",
              "      <td>125</td>\n",
              "    </tr>\n",
              "    <tr>\n",
              "      <th>2</th>\n",
              "      <td>3</td>\n",
              "      <td>2010-11</td>\n",
              "      <td>161</td>\n",
              "      <td>88</td>\n",
              "      <td>111</td>\n",
              "      <td>78</td>\n",
              "      <td>70</td>\n",
              "      <td>13</td>\n",
              "      <td>0</td>\n",
              "      <td>109</td>\n",
              "    </tr>\n",
              "    <tr>\n",
              "      <th>3</th>\n",
              "      <td>4</td>\n",
              "      <td>2011-12</td>\n",
              "      <td>117</td>\n",
              "      <td>99</td>\n",
              "      <td>99</td>\n",
              "      <td>71</td>\n",
              "      <td>39</td>\n",
              "      <td>7</td>\n",
              "      <td>4</td>\n",
              "      <td>89</td>\n",
              "    </tr>\n",
              "    <tr>\n",
              "      <th>4</th>\n",
              "      <td>5</td>\n",
              "      <td>2012-13</td>\n",
              "      <td>147</td>\n",
              "      <td>109</td>\n",
              "      <td>128</td>\n",
              "      <td>97</td>\n",
              "      <td>38</td>\n",
              "      <td>12</td>\n",
              "      <td>15</td>\n",
              "      <td>112</td>\n",
              "    </tr>\n",
              "    <tr>\n",
              "      <th>5</th>\n",
              "      <td>6</td>\n",
              "      <td>2013-14</td>\n",
              "      <td>145</td>\n",
              "      <td>112</td>\n",
              "      <td>121</td>\n",
              "      <td>78</td>\n",
              "      <td>51</td>\n",
              "      <td>16</td>\n",
              "      <td>8</td>\n",
              "      <td>134</td>\n",
              "    </tr>\n",
              "    <tr>\n",
              "      <th>6</th>\n",
              "      <td>7</td>\n",
              "      <td>2014-15</td>\n",
              "      <td>120</td>\n",
              "      <td>94</td>\n",
              "      <td>110</td>\n",
              "      <td>70</td>\n",
              "      <td>38</td>\n",
              "      <td>12</td>\n",
              "      <td>2</td>\n",
              "      <td>113</td>\n",
              "    </tr>\n",
              "    <tr>\n",
              "      <th>7</th>\n",
              "      <td>8</td>\n",
              "      <td>2015-16</td>\n",
              "      <td>116</td>\n",
              "      <td>85</td>\n",
              "      <td>102</td>\n",
              "      <td>76</td>\n",
              "      <td>34</td>\n",
              "      <td>6</td>\n",
              "      <td>4</td>\n",
              "      <td>104</td>\n",
              "    </tr>\n",
              "    <tr>\n",
              "      <th>8</th>\n",
              "      <td>9</td>\n",
              "      <td>2016-17</td>\n",
              "      <td>107</td>\n",
              "      <td>95</td>\n",
              "      <td>101</td>\n",
              "      <td>70</td>\n",
              "      <td>32</td>\n",
              "      <td>5</td>\n",
              "      <td>2</td>\n",
              "      <td>88</td>\n",
              "    </tr>\n",
              "    <tr>\n",
              "      <th>9</th>\n",
              "      <td>10</td>\n",
              "      <td>2017-18</td>\n",
              "      <td>107</td>\n",
              "      <td>75</td>\n",
              "      <td>96</td>\n",
              "      <td>57</td>\n",
              "      <td>41</td>\n",
              "      <td>9</td>\n",
              "      <td>5</td>\n",
              "      <td>109</td>\n",
              "    </tr>\n",
              "    <tr>\n",
              "      <th>10</th>\n",
              "      <td>11</td>\n",
              "      <td>2018-19</td>\n",
              "      <td>92</td>\n",
              "      <td>71</td>\n",
              "      <td>86</td>\n",
              "      <td>57</td>\n",
              "      <td>34</td>\n",
              "      <td>1</td>\n",
              "      <td>6</td>\n",
              "      <td>79</td>\n",
              "    </tr>\n",
              "  </tbody>\n",
              "</table>\n",
              "</div>"
            ],
            "text/plain": [
              "    Sr. No.     Year  ...  Grade II disability Cases  Release from treatment\n",
              "0         1  2008-09  ...                          5                     106\n",
              "1         2  2009-10  ...                          0                     125\n",
              "2         3  2010-11  ...                          0                     109\n",
              "3         4  2011-12  ...                          4                      89\n",
              "4         5  2012-13  ...                         15                     112\n",
              "5         6  2013-14  ...                          8                     134\n",
              "6         7  2014-15  ...                          2                     113\n",
              "7         8  2015-16  ...                          4                     104\n",
              "8         9  2016-17  ...                          2                      88\n",
              "9        10  2017-18  ...                          5                     109\n",
              "10       11  2018-19  ...                          6                      79\n",
              "\n",
              "[11 rows x 10 columns]"
            ]
          },
          "metadata": {
            "tags": []
          },
          "execution_count": 35
        }
      ]
    },
    {
      "cell_type": "code",
      "metadata": {
        "colab": {
          "base_uri": "https://localhost:8080/",
          "height": 364
        },
        "id": "lJ6LXmUfMglX",
        "outputId": "c7f11c79-3ac4-4d9d-ad15-cbcba7afd71a"
      },
      "source": [
        "df.describe()"
      ],
      "execution_count": 55,
      "outputs": [
        {
          "output_type": "execute_result",
          "data": {
            "text/html": [
              "<div>\n",
              "<style scoped>\n",
              "    .dataframe tbody tr th:only-of-type {\n",
              "        vertical-align: middle;\n",
              "    }\n",
              "\n",
              "    .dataframe tbody tr th {\n",
              "        vertical-align: top;\n",
              "    }\n",
              "\n",
              "    .dataframe thead th {\n",
              "        text-align: right;\n",
              "    }\n",
              "</style>\n",
              "<table border=\"1\" class=\"dataframe\">\n",
              "  <thead>\n",
              "    <tr style=\"text-align: right;\">\n",
              "      <th></th>\n",
              "      <th>Sr. No.</th>\n",
              "      <th>Total Leprosy cases detected</th>\n",
              "      <th>Cases on treatment at March end</th>\n",
              "      <th>MB Cases</th>\n",
              "      <th>Male Cases</th>\n",
              "      <th>Female Cases</th>\n",
              "      <th>Child Cases</th>\n",
              "      <th>Grade II disability Cases</th>\n",
              "      <th>Release from treatment</th>\n",
              "    </tr>\n",
              "  </thead>\n",
              "  <tbody>\n",
              "    <tr>\n",
              "      <th>count</th>\n",
              "      <td>11.000000</td>\n",
              "      <td>11.000000</td>\n",
              "      <td>11.000000</td>\n",
              "      <td>11.000000</td>\n",
              "      <td>11.000000</td>\n",
              "      <td>11.000000</td>\n",
              "      <td>11.000000</td>\n",
              "      <td>11.000000</td>\n",
              "      <td>11.000000</td>\n",
              "    </tr>\n",
              "    <tr>\n",
              "      <th>mean</th>\n",
              "      <td>6.000000</td>\n",
              "      <td>124.000000</td>\n",
              "      <td>95.181818</td>\n",
              "      <td>104.090909</td>\n",
              "      <td>73.090909</td>\n",
              "      <td>42.000000</td>\n",
              "      <td>8.909091</td>\n",
              "      <td>4.636364</td>\n",
              "      <td>106.181818</td>\n",
              "    </tr>\n",
              "    <tr>\n",
              "      <th>std</th>\n",
              "      <td>3.316625</td>\n",
              "      <td>20.508535</td>\n",
              "      <td>15.361108</td>\n",
              "      <td>12.348721</td>\n",
              "      <td>10.848544</td>\n",
              "      <td>11.471704</td>\n",
              "      <td>4.253341</td>\n",
              "      <td>4.225464</td>\n",
              "      <td>16.104771</td>\n",
              "    </tr>\n",
              "    <tr>\n",
              "      <th>min</th>\n",
              "      <td>1.000000</td>\n",
              "      <td>92.000000</td>\n",
              "      <td>71.000000</td>\n",
              "      <td>86.000000</td>\n",
              "      <td>57.000000</td>\n",
              "      <td>32.000000</td>\n",
              "      <td>1.000000</td>\n",
              "      <td>0.000000</td>\n",
              "      <td>79.000000</td>\n",
              "    </tr>\n",
              "    <tr>\n",
              "      <th>25%</th>\n",
              "      <td>3.500000</td>\n",
              "      <td>111.500000</td>\n",
              "      <td>86.500000</td>\n",
              "      <td>96.500000</td>\n",
              "      <td>70.000000</td>\n",
              "      <td>34.000000</td>\n",
              "      <td>6.500000</td>\n",
              "      <td>2.000000</td>\n",
              "      <td>96.500000</td>\n",
              "    </tr>\n",
              "    <tr>\n",
              "      <th>50%</th>\n",
              "      <td>6.000000</td>\n",
              "      <td>118.000000</td>\n",
              "      <td>95.000000</td>\n",
              "      <td>101.000000</td>\n",
              "      <td>75.000000</td>\n",
              "      <td>38.000000</td>\n",
              "      <td>9.000000</td>\n",
              "      <td>4.000000</td>\n",
              "      <td>109.000000</td>\n",
              "    </tr>\n",
              "    <tr>\n",
              "      <th>75%</th>\n",
              "      <td>8.500000</td>\n",
              "      <td>139.500000</td>\n",
              "      <td>104.000000</td>\n",
              "      <td>110.500000</td>\n",
              "      <td>77.000000</td>\n",
              "      <td>46.000000</td>\n",
              "      <td>12.000000</td>\n",
              "      <td>5.500000</td>\n",
              "      <td>112.500000</td>\n",
              "    </tr>\n",
              "    <tr>\n",
              "      <th>max</th>\n",
              "      <td>11.000000</td>\n",
              "      <td>161.000000</td>\n",
              "      <td>122.000000</td>\n",
              "      <td>128.000000</td>\n",
              "      <td>97.000000</td>\n",
              "      <td>70.000000</td>\n",
              "      <td>16.000000</td>\n",
              "      <td>15.000000</td>\n",
              "      <td>134.000000</td>\n",
              "    </tr>\n",
              "  </tbody>\n",
              "</table>\n",
              "</div>"
            ],
            "text/plain": [
              "         Sr. No.  ...  Release from treatment\n",
              "count  11.000000  ...               11.000000\n",
              "mean    6.000000  ...              106.181818\n",
              "std     3.316625  ...               16.104771\n",
              "min     1.000000  ...               79.000000\n",
              "25%     3.500000  ...               96.500000\n",
              "50%     6.000000  ...              109.000000\n",
              "75%     8.500000  ...              112.500000\n",
              "max    11.000000  ...              134.000000\n",
              "\n",
              "[8 rows x 9 columns]"
            ]
          },
          "metadata": {
            "tags": []
          },
          "execution_count": 55
        }
      ]
    },
    {
      "cell_type": "code",
      "metadata": {
        "colab": {
          "base_uri": "https://localhost:8080/",
          "height": 0
        },
        "id": "DUSNrGqkM3im",
        "outputId": "9d15607f-b50e-4b5e-9432-39f29f8688a6"
      },
      "source": [
        "df.shape"
      ],
      "execution_count": 53,
      "outputs": [
        {
          "output_type": "execute_result",
          "data": {
            "text/plain": [
              "(11, 9)"
            ]
          },
          "metadata": {
            "tags": []
          },
          "execution_count": 53
        }
      ]
    },
    {
      "cell_type": "code",
      "metadata": {
        "id": "uB-WXK5GOZV6"
      },
      "source": [
        "import numpy as np"
      ],
      "execution_count": 54,
      "outputs": []
    },
    {
      "cell_type": "code",
      "metadata": {
        "id": "istqYxhHOdCf"
      },
      "source": [
        "import matplotlib.pyplot as plt "
      ],
      "execution_count": 56,
      "outputs": []
    },
    {
      "cell_type": "code",
      "metadata": {
        "id": "B_U856NcOknp"
      },
      "source": [
        "import scipy as sp"
      ],
      "execution_count": 57,
      "outputs": []
    },
    {
      "cell_type": "code",
      "metadata": {
        "id": "n-qesWp-Oq-J"
      },
      "source": [
        "import seaborn as sb"
      ],
      "execution_count": 58,
      "outputs": []
    },
    {
      "cell_type": "code",
      "metadata": {
        "id": "qU9yq5p4Vhy-"
      },
      "source": [
        "lep=df.drop(['Sr. No.'],axis='columns',inplace=True)"
      ],
      "execution_count": 67,
      "outputs": []
    },
    {
      "cell_type": "code",
      "metadata": {
        "colab": {
          "base_uri": "https://localhost:8080/",
          "height": 0
        },
        "id": "Mz0fB-RRViOb",
        "outputId": "094ee094-b0df-4418-8aac-4042a97f56d5"
      },
      "source": [
        "df.shape"
      ],
      "execution_count": 68,
      "outputs": [
        {
          "output_type": "execute_result",
          "data": {
            "text/plain": [
              "(11, 8)"
            ]
          },
          "metadata": {
            "tags": []
          },
          "execution_count": 68
        }
      ]
    },
    {
      "cell_type": "code",
      "metadata": {
        "colab": {
          "base_uri": "https://localhost:8080/",
          "height": 442
        },
        "id": "RqvmSRyXW5VP",
        "outputId": "0019d45b-f73b-44ee-ac17-4450402ac69e"
      },
      "source": [
        "sb.heatmap(df,annot=True, fmt=\"d\")"
      ],
      "execution_count": 69,
      "outputs": [
        {
          "output_type": "execute_result",
          "data": {
            "text/plain": [
              "<matplotlib.axes._subplots.AxesSubplot at 0x7f40de8b74d0>"
            ]
          },
          "metadata": {
            "tags": []
          },
          "execution_count": 69
        },
        {
          "output_type": "display_data",
          "data": {
            "image/png": "[encoded data removed]",
            "text/plain": [
              "<Figure size 432x288 with 2 Axes>"
            ]
          },
          "metadata": {
            "tags": [],
            "needs_background": "light"
          }
        }
      ]
    },
    {
      "cell_type": "code",
      "metadata": {
        "colab": {
          "base_uri": "https://localhost:8080/",
          "height": 423
        },
        "id": "Zsi5k7dQW5zg",
        "outputId": "03138d52-3b14-4506-9868-31fe0d72d82d"
      },
      "source": [
        "sb.barplot(data=df) \n",
        "plt.xticks(rotation=90) \n",
        "plt.show()"
      ],
      "execution_count": 70,
      "outputs": [
        {
          "output_type": "display_data",
          "data": {
            "image/png": "[encoded data removed]",
            "text/plain": [
              "<Figure size 432x288 with 1 Axes>"
            ]
          },
          "metadata": {
            "tags": [],
            "needs_background": "light"
          }
        }
      ]
    },
    {
      "cell_type": "code",
      "metadata": {
        "id": "-UyGtYxqcYJV"
      },
      "source": [
        ""
      ],
      "execution_count": null,
      "outputs": []
    },
    {
      "cell_type": "code",
      "metadata": {
        "id": "qbIzqjuGW6C3"
      },
      "source": [
        ""
      ],
      "execution_count": null,
      "outputs": []
    },
    {
      "cell_type": "code",
      "metadata": {
        "id": "7I9NBEYkW6JM"
      },
      "source": [
        ""
      ],
      "execution_count": null,
      "outputs": []
    },
    {
      "cell_type": "code",
      "metadata": {
        "id": "w3osSuLnW6Ol"
      },
      "source": [
        ""
      ],
      "execution_count": null,
      "outputs": []
    },
    {
      "cell_type": "code",
      "metadata": {
        "id": "MTd_E-AcW6Tx"
      },
      "source": [
        ""
      ],
      "execution_count": null,
      "outputs": []
    },
    {
      "cell_type": "code",
      "metadata": {
        "id": "HtTjkAgwW6Xj"
      },
      "source": [
        ""
      ],
      "execution_count": null,
      "outputs": []
    }
  ]
}